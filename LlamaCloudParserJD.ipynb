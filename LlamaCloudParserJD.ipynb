{
 "cells": [
  {
   "cell_type": "code",
   "execution_count": 7,
   "metadata": {},
   "outputs": [
    {
     "name": "stdout",
     "output_type": "stream",
     "text": [
      "Requirement already satisfied: llama-cloud-services in c:\\users\\shyamaldasandhi\\ailab\\.venv\\lib\\site-packages (0.6.5)\n",
      "Requirement already satisfied: click<9.0.0,>=8.1.7 in c:\\users\\shyamaldasandhi\\ailab\\.venv\\lib\\site-packages (from llama-cloud-services) (8.1.8)\n",
      "Requirement already satisfied: llama-cloud<0.2.0,>=0.1.14 in c:\\users\\shyamaldasandhi\\ailab\\.venv\\lib\\site-packages (from llama-cloud-services) (0.1.14)\n",
      "Requirement already satisfied: llama-index-core>=0.11.0 in c:\\users\\shyamaldasandhi\\ailab\\.venv\\lib\\site-packages (from llama-cloud-services) (0.12.23.post2)\n",
      "Requirement already satisfied: pydantic!=2.10 in c:\\users\\shyamaldasandhi\\ailab\\.venv\\lib\\site-packages (from llama-cloud-services) (2.10.6)\n",
      "Requirement already satisfied: python-dotenv<2.0.0,>=1.0.1 in c:\\users\\shyamaldasandhi\\ailab\\.venv\\lib\\site-packages (from llama-cloud-services) (1.0.1)\n",
      "Requirement already satisfied: colorama in c:\\users\\shyamaldasandhi\\ailab\\.venv\\lib\\site-packages (from click<9.0.0,>=8.1.7->llama-cloud-services) (0.4.6)\n",
      "Requirement already satisfied: certifi>=2024.7.4 in c:\\users\\shyamaldasandhi\\ailab\\.venv\\lib\\site-packages (from llama-cloud<0.2.0,>=0.1.14->llama-cloud-services) (2025.1.31)\n",
      "Requirement already satisfied: httpx>=0.20.0 in c:\\users\\shyamaldasandhi\\ailab\\.venv\\lib\\site-packages (from llama-cloud<0.2.0,>=0.1.14->llama-cloud-services) (0.28.1)\n",
      "Requirement already satisfied: PyYAML>=6.0.1 in c:\\users\\shyamaldasandhi\\ailab\\.venv\\lib\\site-packages (from llama-index-core>=0.11.0->llama-cloud-services) (6.0.2)\n",
      "Requirement already satisfied: SQLAlchemy>=1.4.49 in c:\\users\\shyamaldasandhi\\ailab\\.venv\\lib\\site-packages (from SQLAlchemy[asyncio]>=1.4.49->llama-index-core>=0.11.0->llama-cloud-services) (2.0.38)\n",
      "Requirement already satisfied: aiohttp<4.0.0,>=3.8.6 in c:\\users\\shyamaldasandhi\\ailab\\.venv\\lib\\site-packages (from llama-index-core>=0.11.0->llama-cloud-services) (3.11.12)\n",
      "Requirement already satisfied: dataclasses-json in c:\\users\\shyamaldasandhi\\ailab\\.venv\\lib\\site-packages (from llama-index-core>=0.11.0->llama-cloud-services) (0.6.7)\n",
      "Requirement already satisfied: deprecated>=1.2.9.3 in c:\\users\\shyamaldasandhi\\ailab\\.venv\\lib\\site-packages (from llama-index-core>=0.11.0->llama-cloud-services) (1.2.18)\n",
      "Requirement already satisfied: dirtyjson<2.0.0,>=1.0.8 in c:\\users\\shyamaldasandhi\\ailab\\.venv\\lib\\site-packages (from llama-index-core>=0.11.0->llama-cloud-services) (1.0.8)\n",
      "Requirement already satisfied: filetype<2.0.0,>=1.2.0 in c:\\users\\shyamaldasandhi\\ailab\\.venv\\lib\\site-packages (from llama-index-core>=0.11.0->llama-cloud-services) (1.2.0)\n",
      "Requirement already satisfied: fsspec>=2023.5.0 in c:\\users\\shyamaldasandhi\\ailab\\.venv\\lib\\site-packages (from llama-index-core>=0.11.0->llama-cloud-services) (2025.3.0)\n",
      "Requirement already satisfied: nest-asyncio<2.0.0,>=1.5.8 in c:\\users\\shyamaldasandhi\\ailab\\.venv\\lib\\site-packages (from llama-index-core>=0.11.0->llama-cloud-services) (1.6.0)\n",
      "Requirement already satisfied: networkx>=3.0 in c:\\users\\shyamaldasandhi\\ailab\\.venv\\lib\\site-packages (from llama-index-core>=0.11.0->llama-cloud-services) (3.4.2)\n",
      "Requirement already satisfied: nltk>3.8.1 in c:\\users\\shyamaldasandhi\\ailab\\.venv\\lib\\site-packages (from llama-index-core>=0.11.0->llama-cloud-services) (3.9.1)\n",
      "Requirement already satisfied: numpy in c:\\users\\shyamaldasandhi\\ailab\\.venv\\lib\\site-packages (from llama-index-core>=0.11.0->llama-cloud-services) (1.26.4)\n",
      "Requirement already satisfied: pillow>=9.0.0 in c:\\users\\shyamaldasandhi\\ailab\\.venv\\lib\\site-packages (from llama-index-core>=0.11.0->llama-cloud-services) (11.1.0)\n",
      "Requirement already satisfied: requests>=2.31.0 in c:\\users\\shyamaldasandhi\\ailab\\.venv\\lib\\site-packages (from llama-index-core>=0.11.0->llama-cloud-services) (2.32.3)\n",
      "Requirement already satisfied: tenacity!=8.4.0,<10.0.0,>=8.2.0 in c:\\users\\shyamaldasandhi\\ailab\\.venv\\lib\\site-packages (from llama-index-core>=0.11.0->llama-cloud-services) (9.0.0)\n",
      "Requirement already satisfied: tiktoken>=0.3.3 in c:\\users\\shyamaldasandhi\\ailab\\.venv\\lib\\site-packages (from llama-index-core>=0.11.0->llama-cloud-services) (0.9.0)\n",
      "Requirement already satisfied: tqdm<5.0.0,>=4.66.1 in c:\\users\\shyamaldasandhi\\ailab\\.venv\\lib\\site-packages (from llama-index-core>=0.11.0->llama-cloud-services) (4.67.1)\n",
      "Requirement already satisfied: typing-extensions>=4.5.0 in c:\\users\\shyamaldasandhi\\ailab\\.venv\\lib\\site-packages (from llama-index-core>=0.11.0->llama-cloud-services) (4.12.2)\n",
      "Requirement already satisfied: typing-inspect>=0.8.0 in c:\\users\\shyamaldasandhi\\ailab\\.venv\\lib\\site-packages (from llama-index-core>=0.11.0->llama-cloud-services) (0.9.0)\n",
      "Requirement already satisfied: wrapt in c:\\users\\shyamaldasandhi\\ailab\\.venv\\lib\\site-packages (from llama-index-core>=0.11.0->llama-cloud-services) (1.17.2)\n",
      "Requirement already satisfied: annotated-types>=0.6.0 in c:\\users\\shyamaldasandhi\\ailab\\.venv\\lib\\site-packages (from pydantic!=2.10->llama-cloud-services) (0.7.0)\n",
      "Requirement already satisfied: pydantic-core==2.27.2 in c:\\users\\shyamaldasandhi\\ailab\\.venv\\lib\\site-packages (from pydantic!=2.10->llama-cloud-services) (2.27.2)\n",
      "Requirement already satisfied: aiohappyeyeballs>=2.3.0 in c:\\users\\shyamaldasandhi\\ailab\\.venv\\lib\\site-packages (from aiohttp<4.0.0,>=3.8.6->llama-index-core>=0.11.0->llama-cloud-services) (2.4.6)\n",
      "Requirement already satisfied: aiosignal>=1.1.2 in c:\\users\\shyamaldasandhi\\ailab\\.venv\\lib\\site-packages (from aiohttp<4.0.0,>=3.8.6->llama-index-core>=0.11.0->llama-cloud-services) (1.3.2)\n",
      "Requirement already satisfied: async-timeout<6.0,>=4.0 in c:\\users\\shyamaldasandhi\\ailab\\.venv\\lib\\site-packages (from aiohttp<4.0.0,>=3.8.6->llama-index-core>=0.11.0->llama-cloud-services) (4.0.3)\n",
      "Requirement already satisfied: attrs>=17.3.0 in c:\\users\\shyamaldasandhi\\ailab\\.venv\\lib\\site-packages (from aiohttp<4.0.0,>=3.8.6->llama-index-core>=0.11.0->llama-cloud-services) (25.1.0)\n",
      "Requirement already satisfied: frozenlist>=1.1.1 in c:\\users\\shyamaldasandhi\\ailab\\.venv\\lib\\site-packages (from aiohttp<4.0.0,>=3.8.6->llama-index-core>=0.11.0->llama-cloud-services) (1.5.0)\n",
      "Requirement already satisfied: multidict<7.0,>=4.5 in c:\\users\\shyamaldasandhi\\ailab\\.venv\\lib\\site-packages (from aiohttp<4.0.0,>=3.8.6->llama-index-core>=0.11.0->llama-cloud-services) (6.1.0)\n",
      "Requirement already satisfied: propcache>=0.2.0 in c:\\users\\shyamaldasandhi\\ailab\\.venv\\lib\\site-packages (from aiohttp<4.0.0,>=3.8.6->llama-index-core>=0.11.0->llama-cloud-services) (0.2.1)\n",
      "Requirement already satisfied: yarl<2.0,>=1.17.0 in c:\\users\\shyamaldasandhi\\ailab\\.venv\\lib\\site-packages (from aiohttp<4.0.0,>=3.8.6->llama-index-core>=0.11.0->llama-cloud-services) (1.18.3)\n",
      "Requirement already satisfied: anyio in c:\\users\\shyamaldasandhi\\ailab\\.venv\\lib\\site-packages (from httpx>=0.20.0->llama-cloud<0.2.0,>=0.1.14->llama-cloud-services) (4.8.0)\n",
      "Requirement already satisfied: httpcore==1.* in c:\\users\\shyamaldasandhi\\ailab\\.venv\\lib\\site-packages (from httpx>=0.20.0->llama-cloud<0.2.0,>=0.1.14->llama-cloud-services) (1.0.7)\n",
      "Requirement already satisfied: idna in c:\\users\\shyamaldasandhi\\ailab\\.venv\\lib\\site-packages (from httpx>=0.20.0->llama-cloud<0.2.0,>=0.1.14->llama-cloud-services) (3.10)\n",
      "Requirement already satisfied: h11<0.15,>=0.13 in c:\\users\\shyamaldasandhi\\ailab\\.venv\\lib\\site-packages (from httpcore==1.*->httpx>=0.20.0->llama-cloud<0.2.0,>=0.1.14->llama-cloud-services) (0.14.0)\n",
      "Requirement already satisfied: joblib in c:\\users\\shyamaldasandhi\\ailab\\.venv\\lib\\site-packages (from nltk>3.8.1->llama-index-core>=0.11.0->llama-cloud-services) (1.4.2)\n",
      "Requirement already satisfied: regex>=2021.8.3 in c:\\users\\shyamaldasandhi\\ailab\\.venv\\lib\\site-packages (from nltk>3.8.1->llama-index-core>=0.11.0->llama-cloud-services) (2024.11.6)\n",
      "Requirement already satisfied: charset-normalizer<4,>=2 in c:\\users\\shyamaldasandhi\\ailab\\.venv\\lib\\site-packages (from requests>=2.31.0->llama-index-core>=0.11.0->llama-cloud-services) (3.4.1)\n",
      "Requirement already satisfied: urllib3<3,>=1.21.1 in c:\\users\\shyamaldasandhi\\ailab\\.venv\\lib\\site-packages (from requests>=2.31.0->llama-index-core>=0.11.0->llama-cloud-services) (2.3.0)\n",
      "Requirement already satisfied: greenlet!=0.4.17 in c:\\users\\shyamaldasandhi\\ailab\\.venv\\lib\\site-packages (from SQLAlchemy>=1.4.49->SQLAlchemy[asyncio]>=1.4.49->llama-index-core>=0.11.0->llama-cloud-services) (3.1.1)\n",
      "Requirement already satisfied: mypy-extensions>=0.3.0 in c:\\users\\shyamaldasandhi\\ailab\\.venv\\lib\\site-packages (from typing-inspect>=0.8.0->llama-index-core>=0.11.0->llama-cloud-services) (1.0.0)\n",
      "Requirement already satisfied: marshmallow<4.0.0,>=3.18.0 in c:\\users\\shyamaldasandhi\\ailab\\.venv\\lib\\site-packages (from dataclasses-json->llama-index-core>=0.11.0->llama-cloud-services) (3.26.1)\n",
      "Requirement already satisfied: packaging>=17.0 in c:\\users\\shyamaldasandhi\\ailab\\.venv\\lib\\site-packages (from marshmallow<4.0.0,>=3.18.0->dataclasses-json->llama-index-core>=0.11.0->llama-cloud-services) (24.2)\n",
      "Requirement already satisfied: exceptiongroup>=1.0.2 in c:\\users\\shyamaldasandhi\\ailab\\.venv\\lib\\site-packages (from anyio->httpx>=0.20.0->llama-cloud<0.2.0,>=0.1.14->llama-cloud-services) (1.2.2)\n",
      "Requirement already satisfied: sniffio>=1.1 in c:\\users\\shyamaldasandhi\\ailab\\.venv\\lib\\site-packages (from anyio->httpx>=0.20.0->llama-cloud<0.2.0,>=0.1.14->llama-cloud-services) (1.3.1)\n",
      "Note: you may need to restart the kernel to use updated packages.\n"
     ]
    }
   ],
   "source": [
    "%pip install llama-cloud-services"
   ]
  },
  {
   "cell_type": "code",
   "execution_count": 8,
   "metadata": {},
   "outputs": [],
   "source": [
    "from llama_cloud_services import LlamaParse, LlamaReport, LlamaExtract"
   ]
  },
  {
   "cell_type": "code",
   "execution_count": 9,
   "metadata": {},
   "outputs": [],
   "source": [
    "#parser = LlamaParse(api_key=\"GZjnxDnYiKnmMfh1Smw6vo3YeHIuI8GNtT6lAvopIWLBvLoT\")\n",
    "#report = LlamaReport(api_key=\"GZjnxDnYiKnmMfh1Smw6vo3YeHIuI8GNtT6lAvopIWLBvLoT\")\n",
    "#extract = LlamaExtract(api_key=\"GZjnxDnYiKnmMfh1Smw6vo3YeHIuI8GNtT6lAvopIWLBvLoT\")"
   ]
  },
  {
   "cell_type": "code",
   "execution_count": 10,
   "metadata": {},
   "outputs": [
    {
     "name": "stdout",
     "output_type": "stream",
     "text": [
      "Started parsing the file under job_id b2a127da-3887-4876-b1f1-89fb2f2551f7\n"
     ]
    }
   ],
   "source": [
    "import nest_asyncio\n",
    "\n",
    "nest_asyncio.apply()\n",
    "\n",
    "from llama_cloud_services import LlamaParse\n",
    "\n",
    "parser = LlamaParse(\n",
    "    api_key=\"llx-GZjnxDnYiKnmMfh1Smw6vo3YeHIuI8GNtT6lAvopIWLBvLoT\",  # can also be set in your env as LLAMA_CLOUD_API_KEY\n",
    "    #result_type=\"markdown\",  # \"markdown\" and \"text\" are available\n",
    "    result_type=\"text\",  # \"markdown\" and \"text\" are available\n",
    "    num_workers=4,  # if multiple files passed, split in `num_workers` API calls\n",
    "    verbose=True,\n",
    "    language=\"en\",  # Optionally you can define a language, default=en\n",
    ")\n",
    "\n",
    "# sync\n",
    "documents = parser.load_data(\"JD\\JD_FW-SWE-I-JD-2.pdf\")\n",
    "\n",
    "# sync batch\n",
    "#documents = parser.load_data([\"./my_file1.pdf\", \"./my_file2.pdf\"])\n",
    "\n",
    "# async\n",
    "#documents = await parser.aload_data(\"./my_file.pdf\")\n",
    "\n",
    "# async batch\n",
    "#documents = await parser.aload_data([\"./my_file1.pdf\", \"./my_file2.pdf\"])"
   ]
  },
  {
   "cell_type": "code",
   "execution_count": 11,
   "metadata": {},
   "outputs": [
    {
     "data": {
      "text/plain": [
       "[Document(id_='9f432ce2-9bbd-4b35-99db-b9d11c85d745', embedding=None, metadata={}, excluded_embed_metadata_keys=[], excluded_llm_metadata_keys=[], relationships={}, metadata_template='{key}: {value}', metadata_separator='\\n', text_resource=MediaResource(embeddings=None, data=None, text='3534\\n                      Job Description - Software Engineer I\\nDepartment: Engineering - 2013-03                                       Exemption Status: Non-Exempt\\nSummary:\\nThis position is responsible for software development in multi-application, multi-server, and hosted\\nenvironments. The candidate will primarily provide system/configuration support with a focus in helping\\nthe needs of both internal and external customers. He or she will participate in all facets of software and\\nsystem development life-cycle.\\nThe most qualified candidate for this role will have experience working with business intelligence in the\\npublic safety and/or public health software fields and have formal software education and/or a ton of\\npractical experience. We develop primarily in C#, .NET, SQL, SSRS and mobile. Anyone that might fit well\\nat FirstWatch must be hard-working, people-oriented, friendly, patient, a fast learner, think quickly on\\ntheir feet, take initiative and responsibility, and LOVE providing our customers great and honest\\ncustomer service. This person will need to maintain a high quality productivity level within a fast paced\\nenvironment. This position shares responsibility (rotates) with other engineering staff for 24×7 on call\\nduties and so must be able to thrive in this environment.\\nResponsibilities:\\n    -   Maintain and modify the software and system configurations of production, staged, and test\\n        applications.\\n    -   Interface with different stakeholders to determine and propose appropriate and effective\\n        technology solutions to meet business and technical objectives.\\n    -   Develop interfaces, applications and other technical solutions to support the business needs\\n        through the planning, analysis, design, development, implementation and maintenance phases\\n        of the software and systems development lifecycle.\\n    -   Create system requirements, technical specifications, and test plans.\\n    -   Define the scope of technical projects; provide milestones, identify dependencies and\\n        development time estimates.\\n    -   Create technical documentation as needed.\\n    -   Work independently as well as in a collaborative environment.\\n    -   Some off-site work may be required. Some travel may be needed. Provide after-hours support.\\n    -   Strong troubleshooting skills.\\n    -   Strong communication skills.\\n    -   Be able to work under tight deadlines.\\n    -   Perform other duties as assigned.', path=None, url=None, mimetype=None), image_resource=None, audio_resource=None, video_resource=None, text_template='{metadata_str}\\n\\n{content}'),\n",
       " Document(id_='669338a6-a369-470e-8076-990d0dfae080', embedding=None, metadata={}, excluded_embed_metadata_keys=[], excluded_llm_metadata_keys=[], relationships={}, metadata_template='{key}: {value}', metadata_separator='\\n', text_resource=MediaResource(embeddings=None, data=None, text='Skills and Credentials:\\n    -   Education: BS or MS in Computer Science, Computer Engineering, or an equivalent degree.\\n    -   Technology: Microsoft technologies as the primary software development platform including\\n        Microsoft Visual Studio, C#, .NET framework, and ASP.NET (C# or VB.NET). Hands-on experience\\n        with database technologies such as Microsoft SQL Server (T-SQL), ODBC, SQL Reporting Services,\\n        and Microsoft Access. Savvy in Web Technologies such as JavaScript, HTML, CSS, Web Services,\\n        ADO, ADO.NET, and IIS. Experienced with TCP/IP socket communications, FTP/SFTP, XML, and\\n        data encryption. Familiar with conducting A/B Testing, usability studies, performance tuning,\\n        and HIPAA compliance.\\n Preferred Skills and Credentials:\\n    -   Current Microsoft Certified Solutions Developer or equivalent.\\n    -   Experience in developing and support software solutions for public safety and public health.\\n    -   Experience in interfacing with third party solutions.\\n    -   Agile development.\\n    -   Successful in taking a web-centric solution to the mobile platform.\\n    -   Windows Server OS management skills.\\n    -   Microsoft SQL Server management skills.\\n Physical Demands and Work Environment\\n The physical demands described here are representative of those that must be met by an employee to\\n successfully perform the essential functions of this job. Reasonable accommodations may be made to\\n enable individuals with disabilities to perform the essential functions.\\n     -   While performing the duties of this job, the employee routinely is required to sit; walk; talk and\\n         hear; use hands to keyboard, finger, handle, and feel; stoop, kneel, crouch, twist, crawl, reach,\\n         and stretch.\\n     -   The employee is occasionally required to move around the office.\\n     -   Specific vision abilities required by this job include close vision, color vision, peripheral vision,\\n         depth perception, and ability to adjust focus.\\n     -   May require travel dependent on company needs.\\n     -   The employee may occasionally lift and/or move up to 30 lbs.\\n     -   Can work under deadlines.\\nThis job description is subject to change at any time and will include other tasks and duties as\\nassigned.\\nI acknowledge receipt of this job description.\\n_______________________________                          _______________________________\\nSignature/Print Name                                     Date', path=None, url=None, mimetype=None), image_resource=None, audio_resource=None, video_resource=None, text_template='{metadata_str}\\n\\n{content}')]"
      ]
     },
     "execution_count": 11,
     "metadata": {},
     "output_type": "execute_result"
    }
   ],
   "source": [
    "documents"
   ]
  },
  {
   "cell_type": "code",
   "execution_count": 12,
   "metadata": {},
   "outputs": [
    {
     "name": "stdout",
     "output_type": "stream",
     "text": [
      "\n"
     ]
    }
   ],
   "source": [
    "print(documents[0].text[6000:7000])"
   ]
  },
  {
   "cell_type": "code",
   "execution_count": 13,
   "metadata": {},
   "outputs": [],
   "source": [
    "# llama-parse is async-first, running the sync code in a notebook requires the use of nest_asyncio\n",
    "import nest_asyncio\n",
    "\n",
    "nest_asyncio.apply()\n",
    "\n",
    "import os\n",
    "\n",
    "os.environ[\"LLAMA_CLOUD_API_KEY\"] = \"llx-GZjnxDnYiKnmMfh1Smw6vo3YeHIuI8GNtT6lAvopIWLBvLoT\""
   ]
  },
  {
   "cell_type": "code",
   "execution_count": 14,
   "metadata": {},
   "outputs": [
    {
     "name": "stdout",
     "output_type": "stream",
     "text": [
      "Started parsing the file under job_id ac204846-47fa-4c27-9257-eb8d93143c5b\n"
     ]
    }
   ],
   "source": [
    "from llama_cloud_services import LlamaParse\n",
    "\n",
    "documents = LlamaParse(result_type=\"text\").load_data(\"JD\\JD_FW-SWE-I-JD-2.pdf\")"
   ]
  },
  {
   "cell_type": "code",
   "execution_count": 15,
   "metadata": {},
   "outputs": [],
   "source": [
    "#print(documents[0].text)"
   ]
  },
  {
   "cell_type": "code",
   "execution_count": 16,
   "metadata": {},
   "outputs": [],
   "source": [
    "#print(documents[1].text)"
   ]
  },
  {
   "cell_type": "code",
   "execution_count": 17,
   "metadata": {},
   "outputs": [],
   "source": [
    "#print(documents[2].text)"
   ]
  },
  {
   "cell_type": "code",
   "execution_count": 18,
   "metadata": {},
   "outputs": [],
   "source": [
    "#print (len(documents))"
   ]
  },
  {
   "cell_type": "code",
   "execution_count": 19,
   "metadata": {},
   "outputs": [
    {
     "name": "stdout",
     "output_type": "stream",
     "text": [
      "3534\n",
      "                      Job Description - Software Engineer I\n",
      "Department: Engineering - 2013-03                                       Exemption Status: Non-Exempt\n",
      "Summary:\n",
      "This position is responsible for software development in multi-application, multi-server, and hosted\n",
      "environments. The candidate will primarily provide system/configuration support with a focus in helping\n",
      "the needs of both internal and external customers. He or she will participate in all facets of software and\n",
      "system development life-cycle.\n",
      "The most qualified candidate for this role will have experience working with business intelligence in the\n",
      "public safety and/or public health software fields and have formal software education and/or a ton of\n",
      "practical experience. We develop primarily in C#, .NET, SQL, SSRS and mobile. Anyone that might fit well\n",
      "at FirstWatch must be hard-working, people-oriented, friendly, patient, a fast learner, think quickly on\n",
      "their feet, take initiative and responsibility, and LOVE providing our customers great and honest\n",
      "customer service. This person will need to maintain a high quality productivity level within a fast paced\n",
      "environment. This position shares responsibility (rotates) with other engineering staff for 24×7 on call\n",
      "duties and so must be able to thrive in this environment.\n",
      "Responsibilities:\n",
      "    -   Maintain and modify the software and system configurations of production, staged, and test\n",
      "        applications.\n",
      "    -   Interface with different stakeholders to determine and propose appropriate and effective\n",
      "        technology solutions to meet business and technical objectives.\n",
      "    -   Develop interfaces, applications and other technical solutions to support the business needs\n",
      "        through the planning, analysis, design, development, implementation and maintenance phases\n",
      "        of the software and systems development lifecycle.\n",
      "    -   Create system requirements, technical specifications, and test plans.\n",
      "    -   Define the scope of technical projects; provide milestones, identify dependencies and\n",
      "        development time estimates.\n",
      "    -   Create technical documentation as needed.\n",
      "    -   Work independently as well as in a collaborative environment.\n",
      "    -   Some off-site work may be required. Some travel may be needed. Provide after-hours support.\n",
      "    -   Strong troubleshooting skills.\n",
      "    -   Strong communication skills.\n",
      "    -   Be able to work under tight deadlines.\n",
      "    -   Perform other duties as assigned.Skills and Credentials:\n",
      "    -   Education: BS or MS in Computer Science, Computer Engineering, or an equivalent degree.\n",
      "    -   Technology: Microsoft technologies as the primary software development platform including\n",
      "        Microsoft Visual Studio, C#, .NET framework, and ASP.NET (C# or VB.NET). Hands-on experience\n",
      "        with database technologies such as Microsoft SQL Server (T-SQL), ODBC, SQL Reporting Services,\n",
      "        and Microsoft Access. Savvy in Web Technologies such as JavaScript, HTML, CSS, Web Services,\n",
      "        ADO, ADO.NET, and IIS. Experienced with TCP/IP socket communications, FTP/SFTP, XML, and\n",
      "        data encryption. Familiar with conducting A/B Testing, usability studies, performance tuning,\n",
      "        and HIPAA compliance.\n",
      " Preferred Skills and Credentials:\n",
      "    -   Current Microsoft Certified Solutions Developer or equivalent.\n",
      "    -   Experience in developing and support software solutions for public safety and public health.\n",
      "    -   Experience in interfacing with third party solutions.\n",
      "    -   Agile development.\n",
      "    -   Successful in taking a web-centric solution to the mobile platform.\n",
      "    -   Windows Server OS management skills.\n",
      "    -   Microsoft SQL Server management skills.\n",
      " Physical Demands and Work Environment\n",
      " The physical demands described here are representative of those that must be met by an employee to\n",
      " successfully perform the essential functions of this job. Reasonable accommodations may be made to\n",
      " enable individuals with disabilities to perform the essential functions.\n",
      "     -   While performing the duties of this job, the employee routinely is required to sit; walk; talk and\n",
      "         hear; use hands to keyboard, finger, handle, and feel; stoop, kneel, crouch, twist, crawl, reach,\n",
      "         and stretch.\n",
      "     -   The employee is occasionally required to move around the office.\n",
      "     -   Specific vision abilities required by this job include close vision, color vision, peripheral vision,\n",
      "         depth perception, and ability to adjust focus.\n",
      "     -   May require travel dependent on company needs.\n",
      "     -   The employee may occasionally lift and/or move up to 30 lbs.\n",
      "     -   Can work under deadlines.\n",
      "This job description is subject to change at any time and will include other tasks and duties as\n",
      "assigned.\n",
      "I acknowledge receipt of this job description.\n",
      "_______________________________                          _______________________________\n",
      "Signature/Print Name                                     Date\n"
     ]
    }
   ],
   "source": [
    "all_text = \"\"\n",
    "for doc in documents:\n",
    "    all_text += doc.text\n",
    "\n",
    "print(all_text)"
   ]
  },
  {
   "cell_type": "code",
   "execution_count": 20,
   "metadata": {},
   "outputs": [],
   "source": [
    "import os\n",
    "import getpass\n",
    "from typing import Optional, List, Dict, Any\n",
    "from pydantic import BaseModel, Field\n",
    "from langchain_core.prompts import ChatPromptTemplate, MessagesPlaceholder"
   ]
  },
  {
   "cell_type": "code",
   "execution_count": 21,
   "metadata": {},
   "outputs": [],
   "source": [
    "class Qualification(BaseModel):\n",
    "    preferred: List[str] = Field(default_factory=list, description=\"The preferred qualifications for the job\")\n",
    "    required: List[str] = Field(default_factory=list, description=\"The required qualifications for the job\")\n",
    "\n",
    "class RelatedSkill(BaseModel):\n",
    "    skill: Optional[str] = Field(default=None, description=\"The name of the job profile skill\")\n",
    "    proficiency: Optional[str] = Field(default=None, description=\"The proficiency of the job profile skill\")\n",
    "    skilltype: Optional[str] = Field(default=None, description=\"The type of the job profile skill\")\n",
    "\n",
    "class JobProfile(BaseModel):\n",
    "    RelatedSkills: List[RelatedSkill] = Field(default_factory=list)\n",
    "    ontology: Optional[str] = Field(default=None, description=\"The ontology of the job profile\")\n",
    "    Alias: Optional[str] = Field(default=None, description=\"The alias of the job profile\")\n",
    "    FormatedName: Optional[str] = Field(default=None, description=\"The formated name of the job profile\")\n",
    "    Title: Optional[str] = Field(default=None, description=\"The title of the job profile\")\n",
    "\n",
    "class Language(BaseModel):\n",
    "    languagecode: Optional[str] = Field(default=None, description=\"The code of the language in which Job description is written\")\n",
    "    language: Optional[str] = Field(default=None, description=\"The name of the language in which job description is written like English, Hindi etc\")\n",
    "\n",
    "class JobLocation(BaseModel):\n",
    "    state: Optional[str] = Field(default=None, description=\"The state of the job location\")\n",
    "    Zipcode: Optional[str] = Field(default=None, description=\"The zipcode of the job location\")\n",
    "    country: Optional[str] = Field(default=None, description=\"The country of the job location\")\n",
    "    city: Optional[str] = Field(default=None, description=\"The city of the job location\")\n",
    "    IsoCountryCode: Optional[str] = Field(default=None, description=\"The ISO country code of the job location\")\n",
    "    Location: Optional[str] = Field(default=None, description=\"The location of the job\")\n",
    "\n",
    "class SalaryOffered(BaseModel):\n",
    "    MinAmont: Optional[str] = Field(default=None, description=\"minimum amount of salary offered\")\n",
    "    currency: Optional[str] = Field(default=None, description=\"currency of the salary offered\")\n",
    "    AmountInText: Optional[str] = Field(default=None, description=\"amount of salary offered in text\")\n",
    "    MaxAmont: Optional[str] = Field(default=None, description=\"maximum amount of salary offered\")\n",
    "    Unit: Optional[str] = Field(default=None, description=\"unit of the salary offered\")\n",
    "\n",
    "class SkillDetail(BaseModel):\n",
    "    name: str\n",
    "    description: Optional[str] = Field(default=None, description=\"details of the skill\")\n",
    "\n",
    "class Certifications(BaseModel):\n",
    "    prefered: List[str] = Field(default_factory=list)\n",
    "    required: List[str] = Field(default_factory=list)\n",
    "\n",
    "class ExperienceReqired(BaseModel):\n",
    "    MaximumYearsExperience: Optional[str] = Field(default=None, description=\"Maximum years of experience required\")\n",
    "    MinimumYearsExperience: Optional[str] = Field(default=None, description=\"Minimum years of experience required\")\n",
    "\n",
    "class Jd(BaseModel):\n",
    "    \"\"\"Information about a person.\"\"\"\n",
    "\n",
    "    # ^ Doc-string for the entity Person.\n",
    "    # This doc-string is sent to the LLM as the description of the schema Person,# and it can help to improve extraction results.\n",
    "\n",
    "    # Note that:\n",
    "    # 1. Each field is an `optional` -- this allows the model to decline to extract it!\n",
    "    # 2. Each field has a `description` -- this description is used by the LLM.\n",
    "    organisation: Optional[str] = Field(default=None, description=\"The name of the organisation from which job is posted\")\n",
    "    job_title: Optional[str] = Field(default=None, description=\"The title of the job\")\n",
    "    interview_date: Optional[str] = Field(default=None, description=\"The date of the interview\")\n",
    "    interview_time: Optional[str] = Field(default=None, description=\"The time of the interview\")\n",
    "    certifications: Certifications = Certifications()\n",
    "    responsiilities: List[str] = Field(default_factory=list, description=\"The responsibilities of the job\")\n",
    "    experience_required: ExperienceReqired = ExperienceReqired()\n",
    "    jobshift: Optional[str] = Field(default=None, description=\"The shift of the job\")\n",
    "    noticeperiod: Optional[str] = Field(default=None, description=\"The notice period of the job\")\n",
    "    contactphone: Optional[str] = Field(default=None, description=\"The contact phone number of the job\")\n",
    "    jobdiscription: Optional[str] = Field(default=None, description=\"The description of the job\")\n",
    "    noofpositions: Optional[str] = Field(default=None, description=\"The number of positions available\")\n",
    "    #skills: List[SkillDetail] = Field(default_factory=list, description=\"The skills required for the job\")\n",
    "    jobcode: Optional[str] = Field(default=None, description=\"The code of the job\")\n",
    "    contactpersonname: Optional[str] = Field(default=None, description=\"The name of the contact person\")\n",
    "    ismanagementjob: Optional[str] = Field(default=None, description=\"Is the job a management job\")\n",
    "    #salaryoffered: SalaryOffered = SalaryOffered()\n",
    "    posteddate: Optional[str] = Field(default=None, description=\"The date on which the job was posted\")\n",
    "    relocation: Optional[str] = Field(default=None, description=\"Is relocation available\")\n",
    "    hascontract: Optional[str] = Field(default=None, description=\"Is contract available\")\n",
    "    contractduration: Optional[str] = Field(default=None, description=\"The duration of the contract\")\n",
    "    joblocation: JobLocation = JobLocation()\n",
    "    language: Language = Language()\n",
    "    aboutOrganisation: Optional[str] = Field(default=None, description=\"About the organisation\")\n",
    "    interviewDate: Optional[str] = Field(default=None, description=\"The date of the interview\")\n",
    "    jobProfile: JobProfile = JobProfile()\n",
    "    industryType: Optional[str] = Field(default=None, description=\"The type of the industry\")\n",
    "    domains: List[str] = Field(default_factory=list, description=\"The domains of the job\")\n",
    "    interviewLocation: Optional[str] = Field(default=None, description=\"The location of the interview\")\n",
    "    jobType: Optional[str] = Field(default=None, description=\"The type of the job\")\n",
    "    interviewType: Optional[str] = Field(default=None, description=\"The type of the interview\")\n",
    "    website: Optional[str] = Field(default=None, description=\"The website of the organisation\")\n",
    "    contactEmail: Optional[str] = Field(default=None, description=\"The contact email of the organisation\")\n",
    "    closingDate: Optional[str] = Field(default=None, description=\"The closing date of the job\")\n",
    "    typeofSource: Optional[str] = Field(default=None, description=\"The type of the source\")\n",
    "    #qalification: Optional[str] = Field(default=None, description=\"The qualification required for the job\")\n",
    "    qualification: Qualification = Qualification()"
   ]
  },
  {
   "cell_type": "code",
   "execution_count": 22,
   "metadata": {},
   "outputs": [],
   "source": [
    "# Define a custom prompt to provide instructions and any additional context.\n",
    "# 1) You can add examples into the prompt template to improve extraction quality\n",
    "# 2) Introduce additional parameters to take context into account (e.g., include metadata\n",
    "#    about the document from which the text was extracted.)\n",
    "prompt_template = ChatPromptTemplate.from_messages(\n",
    "    [\n",
    "        (\n",
    "            \"system\",\n",
    "            \"You are an expert extraction algorithm. \"\n",
    "            \"Only extract relevant information from the text. \"\n",
    "            \"If you do not know the value of an attribute asked to extract, \"\n",
    "            \"return null for the attribute's value.\",\n",
    "        ),\n",
    "        # Please see the how-to about improving performance with\n",
    "        # reference examples.\n",
    "        # MessagesPlaceholder('examples'),\n",
    "        (\"human\", \"{text}\"),\n",
    "    ]\n",
    ")"
   ]
  },
  {
   "cell_type": "code",
   "execution_count": 23,
   "metadata": {},
   "outputs": [],
   "source": [
    "Groq_apikey = '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'\n",
    "\n",
    "if not os.environ.get(\"GROQ_API_KEY\"):\n",
    "  #os.environ[\"GROQ_API_KEY\"] = getpass.getpass(\"Enter API key for Groq: \")\n",
    "  os.environ[\"GROQ_API_KEY\"] = Groq_apikey\n",
    "\n",
    "from langchain.chat_models import init_chat_model\n",
    "\n",
    "llm = init_chat_model(\"llama-3.3-70b-specdec\", model_provider=\"groq\") #deepseek-r1-distill-llama-70b #llama-3.3-70b-specdec\n",
    "structured_llm = llm.with_structured_output(schema=Jd)"
   ]
  },
  {
   "cell_type": "code",
   "execution_count": 24,
   "metadata": {},
   "outputs": [
    {
     "name": "stdout",
     "output_type": "stream",
     "text": [
      "organisation='FirstWatch' job_title='Software Engineer I' interview_date=None interview_time=None certifications=Certifications(prefered=['Current Microsoft Certified Solutions Developer or equivalent.'], required=[]) responsiilities=['Maintain and modify the software and system configurations of production, staged, and test applications.', 'Interface with different stakeholders to determine and propose appropriate and effective technology solutions to meet business and technical objectives.', 'Develop interfaces, applications and other technical solutions to support the business needs through the planning, analysis, design, development, implementation and maintenance phases of the software and systems development lifecycle.'] experience_required=ExperienceReqired(MaximumYearsExperience=None, MinimumYearsExperience=None) jobshift=None noticeperiod=None contactphone=None jobdiscription='This position is responsible for software development in multi-application, multi-server, and hosted environments.' noofpositions=None jobcode=None contactpersonname=None ismanagementjob=None posteddate=None relocation=None hascontract=None contractduration=None joblocation=JobLocation(state=None, Zipcode=None, country=None, city=None, IsoCountryCode=None, Location=None) language=Language(languagecode=None, language=None) aboutOrganisation=None interviewDate=None jobProfile=JobProfile(RelatedSkills=[], ontology=None, Alias=None, FormatedName=None, Title=None) industryType='Technology' domains=['Software Development', 'Business Intelligence', 'Public Safety', 'Public Health'] interviewLocation=None jobType='Full-time' interviewType=None website=None contactEmail=None closingDate=None typeofSource=None qualification=Qualification(preferred=['Current Microsoft Certified Solutions Developer or equivalent.', 'Experience in developing and support software solutions for public safety and public health.'], required=['BS or MS in Computer Science, Computer Engineering, or an equivalent degree.'])\n"
     ]
    }
   ],
   "source": [
    "prompt = prompt_template.invoke({\"text\": all_text})\n",
    "result = structured_llm.invoke(prompt)\n",
    "print(result)"
   ]
  },
  {
   "cell_type": "code",
   "execution_count": 25,
   "metadata": {},
   "outputs": [
    {
     "name": "stdout",
     "output_type": "stream",
     "text": [
      "{\n",
      "    \"organisation\": \"FirstWatch\",\n",
      "    \"job_title\": \"Software Engineer I\",\n",
      "    \"interview_date\": null,\n",
      "    \"interview_time\": null,\n",
      "    \"certifications\": {\n",
      "        \"prefered\": [\n",
      "            \"Current Microsoft Certified Solutions Developer or equivalent.\"\n",
      "        ],\n",
      "        \"required\": []\n",
      "    },\n",
      "    \"responsiilities\": [\n",
      "        \"Maintain and modify the software and system configurations of production, staged, and test applications.\",\n",
      "        \"Interface with different stakeholders to determine and propose appropriate and effective technology solutions to meet business and technical objectives.\",\n",
      "        \"Develop interfaces, applications and other technical solutions to support the business needs through the planning, analysis, design, development, implementation and maintenance phases of the software and systems development lifecycle.\"\n",
      "    ],\n",
      "    \"experience_required\": {\n",
      "        \"MaximumYearsExperience\": null,\n",
      "        \"MinimumYearsExperience\": null\n",
      "    },\n",
      "    \"jobshift\": null,\n",
      "    \"noticeperiod\": null,\n",
      "    \"contactphone\": null,\n",
      "    \"jobdiscription\": \"This position is responsible for software development in multi-application, multi-server, and hosted environments.\",\n",
      "    \"noofpositions\": null,\n",
      "    \"jobcode\": null,\n",
      "    \"contactpersonname\": null,\n",
      "    \"ismanagementjob\": null,\n",
      "    \"posteddate\": null,\n",
      "    \"relocation\": null,\n",
      "    \"hascontract\": null,\n",
      "    \"contractduration\": null,\n",
      "    \"joblocation\": {\n",
      "        \"state\": null,\n",
      "        \"Zipcode\": null,\n",
      "        \"country\": null,\n",
      "        \"city\": null,\n",
      "        \"IsoCountryCode\": null,\n",
      "        \"Location\": null\n",
      "    },\n",
      "    \"language\": {\n",
      "        \"languagecode\": null,\n",
      "        \"language\": null\n",
      "    },\n",
      "    \"aboutOrganisation\": null,\n",
      "    \"interviewDate\": null,\n",
      "    \"jobProfile\": {\n",
      "        \"RelatedSkills\": [],\n",
      "        \"ontology\": null,\n",
      "        \"Alias\": null,\n",
      "        \"FormatedName\": null,\n",
      "        \"Title\": null\n",
      "    },\n",
      "    \"industryType\": \"Technology\",\n",
      "    \"domains\": [\n",
      "        \"Software Development\",\n",
      "        \"Business Intelligence\",\n",
      "        \"Public Safety\",\n",
      "        \"Public Health\"\n",
      "    ],\n",
      "    \"interviewLocation\": null,\n",
      "    \"jobType\": \"Full-time\",\n",
      "    \"interviewType\": null,\n",
      "    \"website\": null,\n",
      "    \"contactEmail\": null,\n",
      "    \"closingDate\": null,\n",
      "    \"typeofSource\": null,\n",
      "    \"qualification\": {\n",
      "        \"preferred\": [\n",
      "            \"Current Microsoft Certified Solutions Developer or equivalent.\",\n",
      "            \"Experience in developing and support software solutions for public safety and public health.\"\n",
      "        ],\n",
      "        \"required\": [\n",
      "            \"BS or MS in Computer Science, Computer Engineering, or an equivalent degree.\"\n",
      "        ]\n",
      "    }\n",
      "}\n"
     ]
    },
    {
     "name": "stderr",
     "output_type": "stream",
     "text": [
      "C:\\Users\\ShyamalDasandhi\\AppData\\Local\\Temp\\ipykernel_13248\\4256913021.py:4: PydanticDeprecatedSince20: The `dict` method is deprecated; use `model_dump` instead. Deprecated in Pydantic V2.0 to be removed in V3.0. See Pydantic V2 Migration Guide at https://errors.pydantic.dev/2.10/migration/\n",
      "  result_dict = result.dict()\n"
     ]
    }
   ],
   "source": [
    "import json\n",
    "\n",
    "# Convert the result to a dictionary\n",
    "result_dict = result.dict()\n",
    "\n",
    "# Convert the dictionary to a JSON string\n",
    "result_json = json.dumps(result_dict, indent=4)\n",
    "\n",
    "print(result_json)"
   ]
  }
 ],
 "metadata": {
  "kernelspec": {
   "display_name": ".venv",
   "language": "python",
   "name": "python3"
  },
  "language_info": {
   "codemirror_mode": {
    "name": "ipython",
    "version": 3
   },
   "file_extension": ".py",
   "mimetype": "text/x-python",
   "name": "python",
   "nbconvert_exporter": "python",
   "pygments_lexer": "ipython3",
   "version": "3.10.0"
  }
 },
 "nbformat": 4,
 "nbformat_minor": 2
}
